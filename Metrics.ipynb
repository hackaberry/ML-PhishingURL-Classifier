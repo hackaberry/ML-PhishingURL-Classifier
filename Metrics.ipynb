{
 "cells": [
  {
   "cell_type": "markdown",
   "id": "e1814d2c-989a-4270-a2f6-263e7d5a5f6a",
   "metadata": {},
   "source": [
    "## For evaluating model metrics (load saved models)"
   ]
  },
  {
   "cell_type": "code",
   "execution_count": 1,
   "id": "0125e8d2-40ca-430a-baaf-182e17e255d3",
   "metadata": {},
   "outputs": [
    {
     "name": "stdout",
     "output_type": "stream",
     "text": [
      "object\n"
     ]
    }
   ],
   "source": [
    "import import_ipynb # Allows me to import previous notebooks\n",
    "from classification import accuracy_fn, X_train, y_train_mapped, X_test, y_test_mapped, PhishingModelV0, PhishingModelV1\n",
    "from sklearn.metrics import confusion_matrix, classification_report\n",
    "import torch\n",
    "from torch import nn"
   ]
  },
  {
   "cell_type": "code",
   "execution_count": 2,
   "id": "32e198e2-3eab-42f4-93ba-6970004a1ea4",
   "metadata": {},
   "outputs": [],
   "source": [
    "device = \"cuda\" if torch.cuda.is_available() else \"cpu\"\n",
    "in_features = 30\n",
    "out_features = 1\n",
    "hidden_units = 5 # baseline hidden_units\n",
    "hidden_units_v2 = 10 # For testing if more neurons = better"
   ]
  },
  {
   "cell_type": "markdown",
   "id": "09977cfe-0889-4a0e-b03a-85fdf2804b5d",
   "metadata": {},
   "source": [
    "## Loading models"
   ]
  },
  {
   "cell_type": "code",
   "execution_count": 3,
   "id": "1bb0e8e6-7dd6-4a60-9469-be4c6640b2ac",
   "metadata": {},
   "outputs": [
    {
     "data": {
      "text/plain": [
       "<All keys matched successfully>"
      ]
     },
     "execution_count": 3,
     "metadata": {},
     "output_type": "execute_result"
    }
   ],
   "source": [
    "# Instantiate all models again (required)\n",
    "modelV0 = PhishingModelV0(in_features=in_features,out_features=out_features,hidden_units=hidden_units).to(device) # 3 layers, 5 neurons (baseline)\n",
    "modelV1 = PhishingModelV1(in_features=in_features,out_features=out_features,hidden_units=hidden_units).to(device) # 6 layers, 5 neurons\n",
    "modelV2 = PhishingModelV0(in_features=in_features,out_features=out_features,hidden_units=hidden_units_v2).to(device) # 3 layers, 10 neurons\n",
    "modelV3 = PhishingModelV1(in_features=in_features,out_features=out_features,hidden_units=hidden_units_v2).to(device) # 6 layers and 10 neurons\n",
    "\n",
    "# Load state dict of all models\n",
    "modelV0.load_state_dict(torch.load(\"saved_models/modelV0.pt\"))\n",
    "modelV1.load_state_dict(torch.load(\"saved_models/modelV1.pt\"))\n",
    "modelV2.load_state_dict(torch.load(\"saved_models/modelV2.pt\"))\n",
    "modelV3.load_state_dict(torch.load(\"saved_models/modelV3.pt\"))"
   ]
  },
  {
   "cell_type": "markdown",
   "id": "e277546c-e9cc-4f3e-89d9-272eb5a1f04e",
   "metadata": {},
   "source": [
    "## Summary of metrics for all 4 models"
   ]
  },
  {
   "cell_type": "code",
   "execution_count": 4,
   "id": "5b800ea7-e764-47ed-86c6-05b5e379ac14",
   "metadata": {},
   "outputs": [
    {
     "name": "stdout",
     "output_type": "stream",
     "text": [
      "==================================\n",
      "\n",
      "ModelV0 Accuracy: 93.8%\n",
      "ModelV0 Confusion Matrix:\n",
      "[[ 904   92]\n",
      " [  45 1170]]\n",
      "ModelV0 Classification Report:\n",
      "              precision    recall  f1-score   support\n",
      "\n",
      "      Phishy       0.95      0.91      0.93       996\n",
      "       Legit       0.93      0.96      0.94      1215\n",
      "\n",
      "    accuracy                           0.94      2211\n",
      "   macro avg       0.94      0.94      0.94      2211\n",
      "weighted avg       0.94      0.94      0.94      2211\n",
      "\n",
      "==================================\n",
      "\n",
      "ModelV1 Accuracy: 93.22%\n",
      "ModelV1 Confusion Matrix:\n",
      "[[ 942   54]\n",
      " [  96 1119]]\n",
      "ModelV1 Classification Report:\n",
      "              precision    recall  f1-score   support\n",
      "\n",
      "      Phishy       0.91      0.95      0.93       996\n",
      "       Legit       0.95      0.92      0.94      1215\n",
      "\n",
      "    accuracy                           0.93      2211\n",
      "   macro avg       0.93      0.93      0.93      2211\n",
      "weighted avg       0.93      0.93      0.93      2211\n",
      "\n",
      "==================================\n",
      "\n",
      "ModelV2 Accuracy: 94.53%\n",
      "ModelV2 Confusion Matrix:\n",
      "[[ 921   75]\n",
      " [  46 1169]]\n",
      "ModelV2 Classification Report:\n",
      "              precision    recall  f1-score   support\n",
      "\n",
      "      Phishy       0.95      0.92      0.94       996\n",
      "       Legit       0.94      0.96      0.95      1215\n",
      "\n",
      "    accuracy                           0.95      2211\n",
      "   macro avg       0.95      0.94      0.94      2211\n",
      "weighted avg       0.95      0.95      0.95      2211\n",
      "\n",
      "==================================\n",
      "\n",
      "ModelV3 Accuracy: 95.21%\n",
      "ModelV3 Confusion Matrix:\n",
      "[[ 943   53]\n",
      " [  53 1162]]\n",
      "ModelV3 Classification Report:\n",
      "              precision    recall  f1-score   support\n",
      "\n",
      "      Phishy       0.95      0.95      0.95       996\n",
      "       Legit       0.96      0.96      0.96      1215\n",
      "\n",
      "    accuracy                           0.95      2211\n",
      "   macro avg       0.95      0.95      0.95      2211\n",
      "weighted avg       0.95      0.95      0.95      2211\n",
      "\n",
      "==================================\n",
      "\n"
     ]
    }
   ],
   "source": [
    "target_names = [\"Phishy\", \"Legit\"]\n",
    "print(\"==================================\\n\")\n",
    "\n",
    "modelV0.eval()\n",
    "with torch.inference_mode():\n",
    "    y_logits = modelV0(X_test).squeeze()\n",
    "    y_preds = torch.sigmoid(y_logits).round()\n",
    "    modelV0_accuracy = accuracy_fn(y_preds,y_test_mapped)\n",
    "    print(f\"ModelV0 Accuracy: {modelV0_accuracy}%\")\n",
    "\n",
    "modelV0_confusion_matrix = confusion_matrix(y_test_mapped,y_preds)\n",
    "modelV0_classification_report = classification_report(y_test_mapped.cpu().numpy(),y_preds.cpu().numpy(), target_names=target_names)\n",
    "print(f\"ModelV0 Confusion Matrix:\\n{modelV0_confusion_matrix}\")\n",
    "print(f\"ModelV0 Classification Report:\\n{modelV0_classification_report}\")\n",
    "print(\"==================================\\n\")\n",
    "\n",
    "modelV1.eval()\n",
    "with torch.inference_mode():\n",
    "    y_logits = modelV1(X_test).squeeze()\n",
    "    y_preds = torch.sigmoid(y_logits).round()\n",
    "    modelV1_accuracy = accuracy_fn(y_preds,y_test_mapped)\n",
    "    print(f\"ModelV1 Accuracy: {modelV1_accuracy}%\")\n",
    "\n",
    "modelV1_confusion_matrix = confusion_matrix(y_test_mapped,y_preds)\n",
    "modelV1_classification_report = classification_report(y_test_mapped.cpu().numpy(),y_preds.cpu().numpy(), target_names=target_names)\n",
    "print(f\"ModelV1 Confusion Matrix:\\n{modelV1_confusion_matrix}\")\n",
    "print(f\"ModelV1 Classification Report:\\n{modelV1_classification_report}\")\n",
    "print(\"==================================\\n\")\n",
    "\n",
    "modelV2.eval()\n",
    "with torch.inference_mode():\n",
    "    y_logits = modelV2(X_test).squeeze()\n",
    "    y_preds = torch.sigmoid(y_logits).round()\n",
    "    modelV2_accuracy = accuracy_fn(y_preds,y_test_mapped)\n",
    "    print(f\"ModelV2 Accuracy: {modelV2_accuracy}%\")\n",
    "\n",
    "modelV2_confusion_matrix = confusion_matrix(y_test_mapped,y_preds)\n",
    "modelV2_classification_report = classification_report(y_test_mapped.cpu().numpy(),y_preds.cpu().numpy(), target_names=target_names)\n",
    "print(f\"ModelV2 Confusion Matrix:\\n{modelV2_confusion_matrix}\")\n",
    "print(f\"ModelV2 Classification Report:\\n{modelV2_classification_report}\")\n",
    "print(\"==================================\\n\")\n",
    "\n",
    "modelV3.eval()\n",
    "with torch.inference_mode():\n",
    "    y_logits = modelV3(X_test).squeeze()\n",
    "    y_preds = torch.sigmoid(y_logits).round()\n",
    "    modelV3_accuracy = accuracy_fn(y_preds,y_test_mapped)\n",
    "    print(f\"ModelV3 Accuracy: {modelV3_accuracy}%\")\n",
    "\n",
    "modelV3_confusion_matrix = confusion_matrix(y_test_mapped,y_preds)\n",
    "modelV3_classification_report = classification_report(y_test_mapped.cpu().numpy(),y_preds.cpu().numpy(), target_names=target_names)\n",
    "print(f\"ModelV3 Confusion Matrix:\\n{modelV3_confusion_matrix}\")\n",
    "print(f\"ModelV3 Classification Report:\\n{modelV3_classification_report}\")\n",
    "print(\"==================================\\n\")"
   ]
  }
 ],
 "metadata": {
  "kernelspec": {
   "display_name": "Python 3 (ipykernel)",
   "language": "python",
   "name": "python3"
  },
  "language_info": {
   "codemirror_mode": {
    "name": "ipython",
    "version": 3
   },
   "file_extension": ".py",
   "mimetype": "text/x-python",
   "name": "python",
   "nbconvert_exporter": "python",
   "pygments_lexer": "ipython3",
   "version": "3.10.0"
  }
 },
 "nbformat": 4,
 "nbformat_minor": 5
}
